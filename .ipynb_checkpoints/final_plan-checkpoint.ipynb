{
 "cells": [
  {
   "cell_type": "markdown",
   "id": "f9f61c39-e776-4bef-ab0e-927441e1037e",
   "metadata": {},
   "source": [
    "**Research Questions:**\n",
    "\n",
    "Which sectors of the Seattle Police Department use the most force?\n",
    "On what days are Seattle police officers more likey to use force?\n",
    "Is there a correlation between race and the level of force used?"
   ]
  },
  {
   "cell_type": "markdown",
   "id": "f674f11c-d40d-4f0d-a3ad-8bdbdbc43d32",
   "metadata": {},
   "source": [
    "**Background and Related Work:**\n",
    "The [National Institute of Justice](https://nij.ojp.gov/topics/articles/overview-police-use-force) states that law enforcement officers should only use the amount of force necessary to mitigate an incident, make an arrest, or protect themselves or others from harm. The Seattle Police Department has come under fire for several of their interactions with members of the community. According to [The Seattle Times](https://www.seattletimes.com/seattle-news/killings-by-seattle-police-grab-attention-but-far-more-happen-in-south-king-county-suburbs/), since 2016, police officers in Seattle and the surrounding King County area have killed 43 civilians. The recent spur of protests within the community has resulted in investigations from the Office of Police Accountability, as Seattle officers were prosecuted for using excessive force by punching and pushing protestors, according to [KUOW](https://www.kuow.org/stories/seattle-police-officers-used-excessive-force-in-punching-and-pushing-protesters-accountability-office-finds). Even though there is data about the use of force by police and officer involved shooting incidents, I was unable to find a study that analyzed and drew conclusions from this data, so I chose to research the answer to several questions that could help better inform civilians as they interact with the Seattle police department."
   ]
  },
  {
   "cell_type": "markdown",
   "id": "ec4a760a-7ddf-4e9c-9f88-9ea01657e863",
   "metadata": {},
   "source": [
    "**Methodology:**\n",
    "In order to identify which sectors tend to use the most force, I will aggregate the data table based on the number of incidents that occured in each sector and highlight the sector with the most incidents, comparing it with the other sectors using a bar chart. Then I will investigate the sector with the highest number of incidents, and use a pie chart to visualize the sectors use of force by level and type. To find out which days police officers are more likley to use force, I will convert the date column into the single day of the week on which the incident occured, and use a histogram to visualize the frequency of incidents for every day of the week. Lastly, I will use a correlation matrix to find out if there is a relationship between the race of the subject and the level of force used on them. I will present the matrix and use the resulting summary measure to describe the strength of the association if there happens to be one. I will likely use a story map or a smart dashboard to present my findings and visualizations."
   ]
  }
 ],
 "metadata": {
  "kernelspec": {
   "display_name": "Python 3",
   "language": "python",
   "name": "python3"
  },
  "language_info": {
   "codemirror_mode": {
    "name": "ipython",
    "version": 3
   },
   "file_extension": ".py",
   "mimetype": "text/x-python",
   "name": "python",
   "nbconvert_exporter": "python",
   "pygments_lexer": "ipython3",
   "version": "3.8.8"
  }
 },
 "nbformat": 4,
 "nbformat_minor": 5
}
