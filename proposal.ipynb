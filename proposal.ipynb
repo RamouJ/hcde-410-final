{
 "cells": [
  {
   "cell_type": "markdown",
   "id": "18f5ca8d-ca97-44c3-9072-47c9d1d8d71d",
   "metadata": {},
   "source": [
    "**Motivation:**\n",
    "I am going to be researching the use of force by the sworn law enforcement officers of the Seattle Police Department. I am planning to analyze the department's overall use of force throughout the start of this country's recent black lives matter movement up until now. I am hoping to place a lense on members of the black community and identify areas where they are most likely to encounter a situation involving force with a law enforcement officer. As a black person, your environment and your surroundings are a constant concern, and there are many spaces where we are not accepted or welcomed. In conducting this research, I hope to uncover areas of the city where a black person is most likely to experience violence at the hands of police."
   ]
  },
  {
   "cell_type": "markdown",
   "id": "d4f51856-8fbc-411b-bf1a-6ddf9a27da49",
   "metadata": {},
   "source": [
    "**Data:**\n",
    " I plan on using the use of force data set provided by the City of Seattle. It is updated everyday and contains data such as the date and time that the force occurred, the force classification, the precinct, as well as the sector and beat where they occurred. Minimal data about the subject is also provided, such as their race and gender. This dataset is suitable for addressing my research topic because it contains data about the use of force by police officers, as well as demographics about the subjects that will allow me to filter for a specific race or use of force classification, among other indicators. I am curious to know who is responsible for classifying the data based on the force used, as this may present certain biases from the reporting police officers who could alter their reports for their own benefit.\n",
    "\n",
    "**License:** Public Domain\n",
    "\n",
    "Click [here](https://data.seattle.gov/Public-Safety/Use-Of-Force/ppi5-g2bj) for a link to the data!"
   ]
  },
  {
   "cell_type": "markdown",
   "id": "b08e0dc0-2c84-4db7-99ce-ce9222423bb3",
   "metadata": {},
   "source": [
    "**Unknowns:**\n",
    "I do not foresee any issues that are going to prevent me from completing this project during the allotted time."
   ]
  }
 ],
 "metadata": {
  "kernelspec": {
   "display_name": "Python 3",
   "language": "python",
   "name": "python3"
  },
  "language_info": {
   "codemirror_mode": {
    "name": "ipython",
    "version": 3
   },
   "file_extension": ".py",
   "mimetype": "text/x-python",
   "name": "python",
   "nbconvert_exporter": "python",
   "pygments_lexer": "ipython3",
   "version": "3.8.8"
  }
 },
 "nbformat": 4,
 "nbformat_minor": 5
}
